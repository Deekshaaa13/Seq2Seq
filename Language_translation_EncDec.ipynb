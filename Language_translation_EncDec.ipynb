{
  "nbformat": 4,
  "nbformat_minor": 0,
  "metadata": {
    "colab": {
      "name": "Untitled7.ipynb",
      "provenance": [],
      "collapsed_sections": []
    },
    "kernelspec": {
      "name": "python3",
      "display_name": "Python 3"
    },
    "language_info": {
      "name": "python"
    },
    "accelerator": "GPU"
  },
  "cells": [
    {
      "cell_type": "code",
      "metadata": {
        "id": "LhbtKXq45bnr"
      },
      "source": [
        "from tensorflow.keras.models import Model\n",
        "from tensorflow.keras.layers import Input, LSTM, Dense\n",
        "import numpy as np"
      ],
      "execution_count": 2,
      "outputs": []
    },
    {
      "cell_type": "code",
      "metadata": {
        "id": "jcJ9KqHT7ad1"
      },
      "source": [
        "from google.colab import drive"
      ],
      "execution_count": 3,
      "outputs": []
    },
    {
      "cell_type": "code",
      "metadata": {
        "colab": {
          "base_uri": "https://localhost:8080/"
        },
        "id": "fdVvurp574-4",
        "outputId": "1971c2bb-6740-4895-af1e-a3da58268c7b"
      },
      "source": [
        "drive.mount('/content/drive')"
      ],
      "execution_count": 4,
      "outputs": [
        {
          "output_type": "stream",
          "text": [
            "Mounted at /content/drive\n"
          ],
          "name": "stdout"
        }
      ]
    },
    {
      "cell_type": "code",
      "metadata": {
        "id": "rA-iVZaS75Bb"
      },
      "source": [
        "batch_size=64          #Batch size for training\n",
        "epochs=100             #No. of epochs to train for\n",
        "latent_dim=256         #Latent dimensionality of the encoding space.\n",
        "num_samples=10000      #No. of samples to train on.\n",
        "data_path='/content/drive/MyDrive/Data/fra.txt' #Path of the data file"
      ],
      "execution_count": 5,
      "outputs": []
    },
    {
      "cell_type": "code",
      "metadata": {
        "id": "OwmvNM_T75D7"
      },
      "source": [
        "#Vectorize the data\n",
        "input_texts=[]\n",
        "target_texts=[]\n",
        "input_characters=set()\n",
        "target_characters=set()\n",
        "with open(data_path, 'r', encoding='utf-8') as f:\n",
        "  lines=f.read().split('\\n')\n",
        "for line in lines[:min(num_samples,len(lines)-1)]:\n",
        "  input_text, target_text,_=line.split('\\t')\n",
        "  input_texts.append(input_text)\n",
        "  target_text='\\t'+target_text+'\\n'\n",
        "  target_texts.append(target_text)\n",
        "  for char in input_text:\n",
        "    if char not in input_characters:\n",
        "      input_characters.add(char)\n",
        "  for char in target_text:\n",
        "    if char not in target_characters:\n",
        "      target_characters.add(char)"
      ],
      "execution_count": 6,
      "outputs": []
    },
    {
      "cell_type": "code",
      "metadata": {
        "colab": {
          "base_uri": "https://localhost:8080/"
        },
        "id": "GRRk0x2mIKTe",
        "outputId": "15d2e9ed-b7e7-44c6-e4a0-67d8e35a5794"
      },
      "source": [
        "type(input_text)"
      ],
      "execution_count": 7,
      "outputs": [
        {
          "output_type": "execute_result",
          "data": {
            "text/plain": [
              "str"
            ]
          },
          "metadata": {
            "tags": []
          },
          "execution_count": 7
        }
      ]
    },
    {
      "cell_type": "code",
      "metadata": {
        "id": "8njuLZRJ75F-"
      },
      "source": [
        "input_characters=sorted(list(input_characters))\n",
        "target_characters=sorted(list(target_characters))\n",
        "num_encoder_tokens=len(input_characters)\n",
        "num_decoder_tokens=len(target_characters)\n",
        "max_encoder_seq_length=max([len(txt) for txt in input_texts])\n",
        "max_decoder_seq_length=max([len(txt) for txt in target_texts])"
      ],
      "execution_count": 8,
      "outputs": []
    },
    {
      "cell_type": "code",
      "metadata": {
        "colab": {
          "base_uri": "https://localhost:8080/"
        },
        "id": "mZYE2Bsf75LO",
        "outputId": "d9f309ab-09b2-46e4-cbc6-a085ad2ddf57"
      },
      "source": [
        "print('No. of samples:',len(input_texts))\n",
        "print('No. of unique input tokens',num_encoder_tokens)\n",
        "print('No. of unique output tokens',num_decoder_tokens)\n",
        "print('No. of sequence length for inputs',max_encoder_seq_length)\n",
        "print('No. of sequence length for outputs',max_decoder_seq_length)"
      ],
      "execution_count": 9,
      "outputs": [
        {
          "output_type": "stream",
          "text": [
            "No. of samples: 10000\n",
            "No. of unique input tokens 71\n",
            "No. of unique output tokens 92\n",
            "No. of sequence length for inputs 15\n",
            "No. of sequence length for outputs 59\n"
          ],
          "name": "stdout"
        }
      ]
    },
    {
      "cell_type": "code",
      "metadata": {
        "id": "cmuUC3LE75N_"
      },
      "source": [
        "input_token_index=dict([(char,i) for i,char in enumerate(input_characters)])\n",
        "target_token_index=dict([(char,i) for i,char in enumerate(target_characters)])"
      ],
      "execution_count": 10,
      "outputs": []
    },
    {
      "cell_type": "code",
      "metadata": {
        "colab": {
          "base_uri": "https://localhost:8080/"
        },
        "id": "hzB1q0ry75SI",
        "outputId": "ed6ae01c-da01-4065-a749-f69b912d7093"
      },
      "source": [
        "input_token_index"
      ],
      "execution_count": 11,
      "outputs": [
        {
          "output_type": "execute_result",
          "data": {
            "text/plain": [
              "{' ': 0,\n",
              " '!': 1,\n",
              " '\"': 2,\n",
              " '$': 3,\n",
              " '%': 4,\n",
              " '&': 5,\n",
              " \"'\": 6,\n",
              " ',': 7,\n",
              " '-': 8,\n",
              " '.': 9,\n",
              " '0': 10,\n",
              " '1': 11,\n",
              " '2': 12,\n",
              " '3': 13,\n",
              " '5': 14,\n",
              " '7': 15,\n",
              " '8': 16,\n",
              " '9': 17,\n",
              " ':': 18,\n",
              " '?': 19,\n",
              " 'A': 20,\n",
              " 'B': 21,\n",
              " 'C': 22,\n",
              " 'D': 23,\n",
              " 'E': 24,\n",
              " 'F': 25,\n",
              " 'G': 26,\n",
              " 'H': 27,\n",
              " 'I': 28,\n",
              " 'J': 29,\n",
              " 'K': 30,\n",
              " 'L': 31,\n",
              " 'M': 32,\n",
              " 'N': 33,\n",
              " 'O': 34,\n",
              " 'P': 35,\n",
              " 'Q': 36,\n",
              " 'R': 37,\n",
              " 'S': 38,\n",
              " 'T': 39,\n",
              " 'U': 40,\n",
              " 'V': 41,\n",
              " 'W': 42,\n",
              " 'Y': 43,\n",
              " 'a': 44,\n",
              " 'b': 45,\n",
              " 'c': 46,\n",
              " 'd': 47,\n",
              " 'e': 48,\n",
              " 'f': 49,\n",
              " 'g': 50,\n",
              " 'h': 51,\n",
              " 'i': 52,\n",
              " 'j': 53,\n",
              " 'k': 54,\n",
              " 'l': 55,\n",
              " 'm': 56,\n",
              " 'n': 57,\n",
              " 'o': 58,\n",
              " 'p': 59,\n",
              " 'q': 60,\n",
              " 'r': 61,\n",
              " 's': 62,\n",
              " 't': 63,\n",
              " 'u': 64,\n",
              " 'v': 65,\n",
              " 'w': 66,\n",
              " 'x': 67,\n",
              " 'y': 68,\n",
              " 'z': 69,\n",
              " 'é': 70}"
            ]
          },
          "metadata": {
            "tags": []
          },
          "execution_count": 11
        }
      ]
    },
    {
      "cell_type": "code",
      "metadata": {
        "id": "8eyd_IeE75XQ"
      },
      "source": [
        "encoder_input_data=np.zeros(\n",
        "    (len(input_texts),max_encoder_seq_length,num_encoder_tokens),\n",
        "    dtype='float32'\n",
        ")\n",
        "decoder_input_data=np.zeros(\n",
        "    (len(input_texts),max_decoder_seq_length,num_decoder_tokens),\n",
        "    dtype='float32'\n",
        ")\n",
        "decoder_target_data=np.zeros(\n",
        "    (len(input_texts),max_decoder_seq_length,num_decoder_tokens),\n",
        "    dtype='float32'\n",
        ")\n"
      ],
      "execution_count": 12,
      "outputs": []
    },
    {
      "cell_type": "code",
      "metadata": {
        "colab": {
          "base_uri": "https://localhost:8080/"
        },
        "id": "G5YPGoc4TeRl",
        "outputId": "3ef07699-9e9f-48a8-c324-9cdf814d2689"
      },
      "source": [
        "encoder_input_data.shape[0]"
      ],
      "execution_count": 13,
      "outputs": [
        {
          "output_type": "execute_result",
          "data": {
            "text/plain": [
              "10000"
            ]
          },
          "metadata": {
            "tags": []
          },
          "execution_count": 13
        }
      ]
    },
    {
      "cell_type": "code",
      "metadata": {
        "colab": {
          "base_uri": "https://localhost:8080/"
        },
        "id": "lL_JxOgYOv8H",
        "outputId": "e98b35d4-25ab-45b0-be14-eae6b372f0b3"
      },
      "source": [
        "len(encoder_input_data)"
      ],
      "execution_count": 14,
      "outputs": [
        {
          "output_type": "execute_result",
          "data": {
            "text/plain": [
              "10000"
            ]
          },
          "metadata": {
            "tags": []
          },
          "execution_count": 14
        }
      ]
    },
    {
      "cell_type": "code",
      "metadata": {
        "colab": {
          "base_uri": "https://localhost:8080/"
        },
        "id": "E7MzM-g0rbjr",
        "outputId": "d08db3ae-aeab-4fcd-e8bc-8645afd434bc"
      },
      "source": [
        "input_token_index['D']"
      ],
      "execution_count": 15,
      "outputs": [
        {
          "output_type": "execute_result",
          "data": {
            "text/plain": [
              "23"
            ]
          },
          "metadata": {
            "tags": []
          },
          "execution_count": 15
        }
      ]
    },
    {
      "cell_type": "code",
      "metadata": {
        "id": "jyW8VyZI75Zj"
      },
      "source": [
        "#One Hot representation:\n",
        "for i,(input_text,target_text) in enumerate(zip(input_texts,target_texts)):\n",
        "  for t,char in enumerate(input_text):\n",
        "    encoder_input_data[i,t,input_token_index[char]]=1\n",
        "  encoder_input_data[i,t+1:,input_token_index[' ']]=1\n",
        "  for t,char in enumerate(target_text):\n",
        "    decoder_input_data[i,t,target_token_index[char]]=1\n",
        "    if t>0:\n",
        "      decoder_target_data[i,t-1,target_token_index[char]]=1\n",
        "  decoder_target_data[i,t:,target_token_index[' ']]=1\n",
        "  decoder_input_data[i,t+1:,target_token_index[' ']]=1"
      ],
      "execution_count": 16,
      "outputs": []
    },
    {
      "cell_type": "code",
      "metadata": {
        "id": "T2UZGhnm75h0"
      },
      "source": [
        "encoder_inputs=Input(shape=(None,num_encoder_tokens))\n",
        "encoder=LSTM(latent_dim,return_state=True)\n",
        "encoder_outputs,state_h,state_c=encoder(encoder_inputs)\n",
        "encoder_states=[state_h,state_c]\n",
        "#Discarding the encoder outputs and keeping the states\n",
        "encoder_states=[state_h,state_c]  "
      ],
      "execution_count": 17,
      "outputs": []
    },
    {
      "cell_type": "code",
      "metadata": {
        "id": "C9fAEL--75kn"
      },
      "source": [
        "decoder_inputs= Input(shape=(None,num_decoder_tokens))\n",
        "decoder_lstm=LSTM(latent_dim,return_sequences=True, return_state=True)\n",
        "decoder_outputs, _, _=decoder_lstm(decoder_inputs,initial_state=encoder_states)\n",
        "decoder_dense= Dense(num_decoder_tokens,activation='softmax')\n",
        "decoder_outputs=decoder_dense(decoder_outputs)"
      ],
      "execution_count": 18,
      "outputs": []
    },
    {
      "cell_type": "code",
      "metadata": {
        "colab": {
          "base_uri": "https://localhost:8080/"
        },
        "id": "3Br-ZWGdztfQ",
        "outputId": "a1787501-0eed-437e-96bd-e0be9dfa44a8"
      },
      "source": [
        "model=Model([encoder_inputs,decoder_inputs],decoder_outputs)\n",
        "model.compile(optimizer='rmsprop',loss='categorical_crossentropy')\n",
        "model.fit([encoder_input_data, decoder_input_data], decoder_target_data,\n",
        "          batch_size=batch_size,\n",
        "          epochs=epochs,\n",
        "          validation_split=0.2)"
      ],
      "execution_count": 19,
      "outputs": [
        {
          "output_type": "stream",
          "text": [
            "Epoch 1/100\n",
            "125/125 [==============================] - 10s 17ms/step - loss: 1.1334 - val_loss: 1.0540\n",
            "Epoch 2/100\n",
            "125/125 [==============================] - 1s 11ms/step - loss: 0.8134 - val_loss: 0.8363\n",
            "Epoch 3/100\n",
            "125/125 [==============================] - 1s 11ms/step - loss: 0.6520 - val_loss: 0.7021\n",
            "Epoch 4/100\n",
            "125/125 [==============================] - 1s 11ms/step - loss: 0.5707 - val_loss: 0.6466\n",
            "Epoch 5/100\n",
            "125/125 [==============================] - 1s 11ms/step - loss: 0.5261 - val_loss: 0.5872\n",
            "Epoch 6/100\n",
            "125/125 [==============================] - 1s 11ms/step - loss: 0.4907 - val_loss: 0.5641\n",
            "Epoch 7/100\n",
            "125/125 [==============================] - 1s 11ms/step - loss: 0.4644 - val_loss: 0.5365\n",
            "Epoch 8/100\n",
            "125/125 [==============================] - 1s 11ms/step - loss: 0.4418 - val_loss: 0.5262\n",
            "Epoch 9/100\n",
            "125/125 [==============================] - 1s 11ms/step - loss: 0.4217 - val_loss: 0.5051\n",
            "Epoch 10/100\n",
            "125/125 [==============================] - 1s 12ms/step - loss: 0.4034 - val_loss: 0.4999\n",
            "Epoch 11/100\n",
            "125/125 [==============================] - 1s 11ms/step - loss: 0.3869 - val_loss: 0.4875\n",
            "Epoch 12/100\n",
            "125/125 [==============================] - 1s 11ms/step - loss: 0.3723 - val_loss: 0.4781\n",
            "Epoch 13/100\n",
            "125/125 [==============================] - 1s 12ms/step - loss: 0.3582 - val_loss: 0.4712\n",
            "Epoch 14/100\n",
            "125/125 [==============================] - 1s 11ms/step - loss: 0.3445 - val_loss: 0.4668\n",
            "Epoch 15/100\n",
            "125/125 [==============================] - 1s 11ms/step - loss: 0.3320 - val_loss: 0.4665\n",
            "Epoch 16/100\n",
            "125/125 [==============================] - 1s 11ms/step - loss: 0.3200 - val_loss: 0.4552\n",
            "Epoch 17/100\n",
            "125/125 [==============================] - 1s 11ms/step - loss: 0.3083 - val_loss: 0.4585\n",
            "Epoch 18/100\n",
            "125/125 [==============================] - 1s 11ms/step - loss: 0.2977 - val_loss: 0.4493\n",
            "Epoch 19/100\n",
            "125/125 [==============================] - 1s 11ms/step - loss: 0.2876 - val_loss: 0.4519\n",
            "Epoch 20/100\n",
            "125/125 [==============================] - 1s 11ms/step - loss: 0.2780 - val_loss: 0.4526\n",
            "Epoch 21/100\n",
            "125/125 [==============================] - 1s 11ms/step - loss: 0.2685 - val_loss: 0.4500\n",
            "Epoch 22/100\n",
            "125/125 [==============================] - 1s 12ms/step - loss: 0.2594 - val_loss: 0.4496\n",
            "Epoch 23/100\n",
            "125/125 [==============================] - 2s 12ms/step - loss: 0.2510 - val_loss: 0.4507\n",
            "Epoch 24/100\n",
            "125/125 [==============================] - 2s 12ms/step - loss: 0.2428 - val_loss: 0.4546\n",
            "Epoch 25/100\n",
            "125/125 [==============================] - 2s 12ms/step - loss: 0.2351 - val_loss: 0.4561\n",
            "Epoch 26/100\n",
            "125/125 [==============================] - 2s 12ms/step - loss: 0.2275 - val_loss: 0.4549\n",
            "Epoch 27/100\n",
            "125/125 [==============================] - 2s 12ms/step - loss: 0.2202 - val_loss: 0.4597\n",
            "Epoch 28/100\n",
            "125/125 [==============================] - 2s 12ms/step - loss: 0.2132 - val_loss: 0.4629\n",
            "Epoch 29/100\n",
            "125/125 [==============================] - 2s 12ms/step - loss: 0.2068 - val_loss: 0.4668\n",
            "Epoch 30/100\n",
            "125/125 [==============================] - 1s 12ms/step - loss: 0.2005 - val_loss: 0.4685\n",
            "Epoch 31/100\n",
            "125/125 [==============================] - 2s 12ms/step - loss: 0.1942 - val_loss: 0.4759\n",
            "Epoch 32/100\n",
            "125/125 [==============================] - 2s 12ms/step - loss: 0.1885 - val_loss: 0.4751\n",
            "Epoch 33/100\n",
            "125/125 [==============================] - 2s 12ms/step - loss: 0.1830 - val_loss: 0.4743\n",
            "Epoch 34/100\n",
            "125/125 [==============================] - 2s 12ms/step - loss: 0.1778 - val_loss: 0.4831\n",
            "Epoch 35/100\n",
            "125/125 [==============================] - 2s 12ms/step - loss: 0.1728 - val_loss: 0.4878\n",
            "Epoch 36/100\n",
            "125/125 [==============================] - 2s 12ms/step - loss: 0.1680 - val_loss: 0.4934\n",
            "Epoch 37/100\n",
            "125/125 [==============================] - 2s 12ms/step - loss: 0.1630 - val_loss: 0.4958\n",
            "Epoch 38/100\n",
            "125/125 [==============================] - 2s 12ms/step - loss: 0.1586 - val_loss: 0.4962\n",
            "Epoch 39/100\n",
            "125/125 [==============================] - 1s 12ms/step - loss: 0.1544 - val_loss: 0.5010\n",
            "Epoch 40/100\n",
            "125/125 [==============================] - 1s 11ms/step - loss: 0.1501 - val_loss: 0.5071\n",
            "Epoch 41/100\n",
            "125/125 [==============================] - 1s 11ms/step - loss: 0.1460 - val_loss: 0.5105\n",
            "Epoch 42/100\n",
            "125/125 [==============================] - 1s 11ms/step - loss: 0.1422 - val_loss: 0.5178\n",
            "Epoch 43/100\n",
            "125/125 [==============================] - 1s 11ms/step - loss: 0.1381 - val_loss: 0.5177\n",
            "Epoch 44/100\n",
            "125/125 [==============================] - 1s 12ms/step - loss: 0.1348 - val_loss: 0.5278\n",
            "Epoch 45/100\n",
            "125/125 [==============================] - 1s 12ms/step - loss: 0.1314 - val_loss: 0.5282\n",
            "Epoch 46/100\n",
            "125/125 [==============================] - 2s 12ms/step - loss: 0.1278 - val_loss: 0.5349\n",
            "Epoch 47/100\n",
            "125/125 [==============================] - 2s 12ms/step - loss: 0.1248 - val_loss: 0.5393\n",
            "Epoch 48/100\n",
            "125/125 [==============================] - 2s 13ms/step - loss: 0.1220 - val_loss: 0.5430\n",
            "Epoch 49/100\n",
            "125/125 [==============================] - 2s 12ms/step - loss: 0.1188 - val_loss: 0.5475\n",
            "Epoch 50/100\n",
            "125/125 [==============================] - 2s 13ms/step - loss: 0.1160 - val_loss: 0.5538\n",
            "Epoch 51/100\n",
            "125/125 [==============================] - 2s 12ms/step - loss: 0.1139 - val_loss: 0.5578\n",
            "Epoch 52/100\n",
            "125/125 [==============================] - 2s 12ms/step - loss: 0.1110 - val_loss: 0.5650\n",
            "Epoch 53/100\n",
            "125/125 [==============================] - 2s 12ms/step - loss: 0.1082 - val_loss: 0.5663\n",
            "Epoch 54/100\n",
            "125/125 [==============================] - 1s 12ms/step - loss: 0.1059 - val_loss: 0.5704\n",
            "Epoch 55/100\n",
            "125/125 [==============================] - 2s 13ms/step - loss: 0.1033 - val_loss: 0.5721\n",
            "Epoch 56/100\n",
            "125/125 [==============================] - 2s 12ms/step - loss: 0.1010 - val_loss: 0.5851\n",
            "Epoch 57/100\n",
            "125/125 [==============================] - 2s 12ms/step - loss: 0.0991 - val_loss: 0.5821\n",
            "Epoch 58/100\n",
            "125/125 [==============================] - 2s 12ms/step - loss: 0.0971 - val_loss: 0.5864\n",
            "Epoch 59/100\n",
            "125/125 [==============================] - 2s 12ms/step - loss: 0.0949 - val_loss: 0.5971\n",
            "Epoch 60/100\n",
            "125/125 [==============================] - 2s 12ms/step - loss: 0.0930 - val_loss: 0.5989\n",
            "Epoch 61/100\n",
            "125/125 [==============================] - 1s 12ms/step - loss: 0.0909 - val_loss: 0.6053\n",
            "Epoch 62/100\n",
            "125/125 [==============================] - 1s 11ms/step - loss: 0.0884 - val_loss: 0.6154\n",
            "Epoch 63/100\n",
            "125/125 [==============================] - 1s 11ms/step - loss: 0.0873 - val_loss: 0.6157\n",
            "Epoch 64/100\n",
            "125/125 [==============================] - 1s 11ms/step - loss: 0.0858 - val_loss: 0.6123\n",
            "Epoch 65/100\n",
            "125/125 [==============================] - 1s 11ms/step - loss: 0.0841 - val_loss: 0.6215\n",
            "Epoch 66/100\n",
            "125/125 [==============================] - 1s 11ms/step - loss: 0.0823 - val_loss: 0.6299\n",
            "Epoch 67/100\n",
            "125/125 [==============================] - 2s 12ms/step - loss: 0.0810 - val_loss: 0.6316\n",
            "Epoch 68/100\n",
            "125/125 [==============================] - 1s 11ms/step - loss: 0.0790 - val_loss: 0.6390\n",
            "Epoch 69/100\n",
            "125/125 [==============================] - 1s 12ms/step - loss: 0.0777 - val_loss: 0.6394\n",
            "Epoch 70/100\n",
            "125/125 [==============================] - 1s 11ms/step - loss: 0.0759 - val_loss: 0.6508\n",
            "Epoch 71/100\n",
            "125/125 [==============================] - 1s 11ms/step - loss: 0.0749 - val_loss: 0.6528\n",
            "Epoch 72/100\n",
            "125/125 [==============================] - 1s 11ms/step - loss: 0.0734 - val_loss: 0.6521\n",
            "Epoch 73/100\n",
            "125/125 [==============================] - 1s 12ms/step - loss: 0.0724 - val_loss: 0.6625\n",
            "Epoch 74/100\n",
            "125/125 [==============================] - 1s 11ms/step - loss: 0.0710 - val_loss: 0.6615\n",
            "Epoch 75/100\n",
            "125/125 [==============================] - 1s 11ms/step - loss: 0.0695 - val_loss: 0.6669\n",
            "Epoch 76/100\n",
            "125/125 [==============================] - 1s 11ms/step - loss: 0.0684 - val_loss: 0.6677\n",
            "Epoch 77/100\n",
            "125/125 [==============================] - 1s 12ms/step - loss: 0.0674 - val_loss: 0.6745\n",
            "Epoch 78/100\n",
            "125/125 [==============================] - 1s 11ms/step - loss: 0.0663 - val_loss: 0.6797\n",
            "Epoch 79/100\n",
            "125/125 [==============================] - 1s 11ms/step - loss: 0.0649 - val_loss: 0.6765\n",
            "Epoch 80/100\n",
            "125/125 [==============================] - 1s 11ms/step - loss: 0.0640 - val_loss: 0.6812\n",
            "Epoch 81/100\n",
            "125/125 [==============================] - 1s 11ms/step - loss: 0.0631 - val_loss: 0.6901\n",
            "Epoch 82/100\n",
            "125/125 [==============================] - 1s 11ms/step - loss: 0.0620 - val_loss: 0.6970\n",
            "Epoch 83/100\n",
            "125/125 [==============================] - 1s 11ms/step - loss: 0.0607 - val_loss: 0.6942\n",
            "Epoch 84/100\n",
            "125/125 [==============================] - 1s 11ms/step - loss: 0.0599 - val_loss: 0.7002\n",
            "Epoch 85/100\n",
            "125/125 [==============================] - 1s 11ms/step - loss: 0.0589 - val_loss: 0.7101\n",
            "Epoch 86/100\n",
            "125/125 [==============================] - 1s 11ms/step - loss: 0.0582 - val_loss: 0.7071\n",
            "Epoch 87/100\n",
            "125/125 [==============================] - 1s 11ms/step - loss: 0.0574 - val_loss: 0.7161\n",
            "Epoch 88/100\n",
            "125/125 [==============================] - 1s 11ms/step - loss: 0.0559 - val_loss: 0.7208\n",
            "Epoch 89/100\n",
            "125/125 [==============================] - 1s 12ms/step - loss: 0.0555 - val_loss: 0.7223\n",
            "Epoch 90/100\n",
            "125/125 [==============================] - 2s 12ms/step - loss: 0.0545 - val_loss: 0.7276\n",
            "Epoch 91/100\n",
            "125/125 [==============================] - 2s 12ms/step - loss: 0.0539 - val_loss: 0.7356\n",
            "Epoch 92/100\n",
            "125/125 [==============================] - 2s 12ms/step - loss: 0.0534 - val_loss: 0.7294\n",
            "Epoch 93/100\n",
            "125/125 [==============================] - 2s 12ms/step - loss: 0.0526 - val_loss: 0.7284\n",
            "Epoch 94/100\n",
            "125/125 [==============================] - 2s 12ms/step - loss: 0.0516 - val_loss: 0.7341\n",
            "Epoch 95/100\n",
            "125/125 [==============================] - 1s 12ms/step - loss: 0.0508 - val_loss: 0.7419\n",
            "Epoch 96/100\n",
            "125/125 [==============================] - 2s 12ms/step - loss: 0.0505 - val_loss: 0.7507\n",
            "Epoch 97/100\n",
            "125/125 [==============================] - 2s 12ms/step - loss: 0.0494 - val_loss: 0.7451\n",
            "Epoch 98/100\n",
            "125/125 [==============================] - 2s 12ms/step - loss: 0.0489 - val_loss: 0.7480\n",
            "Epoch 99/100\n",
            "125/125 [==============================] - 2s 12ms/step - loss: 0.0486 - val_loss: 0.7499\n",
            "Epoch 100/100\n",
            "125/125 [==============================] - 2s 12ms/step - loss: 0.0476 - val_loss: 0.7508\n"
          ],
          "name": "stdout"
        },
        {
          "output_type": "execute_result",
          "data": {
            "text/plain": [
              "<tensorflow.python.keras.callbacks.History at 0x7f9c5019da90>"
            ]
          },
          "metadata": {
            "tags": []
          },
          "execution_count": 19
        }
      ]
    },
    {
      "cell_type": "code",
      "metadata": {
        "id": "8mTmB1QO75nT"
      },
      "source": [
        "# https://blog.keras.io/a-ten-minute-introduction-to-sequence-to-sequence-learning-in-keras.html"
      ],
      "execution_count": 20,
      "outputs": []
    },
    {
      "cell_type": "code",
      "metadata": {
        "id": "FfA_E0JD75p5"
      },
      "source": [
        "encoder_model = Model(encoder_inputs, encoder_states)\n",
        "\n",
        "decoder_state_input_h = Input(shape=(latent_dim,))\n",
        "decoder_state_input_c = Input(shape=(latent_dim,))\n",
        "decoder_states_inputs = [decoder_state_input_h, decoder_state_input_c]\n",
        "decoder_outputs, state_h, state_c = decoder_lstm(\n",
        "    decoder_inputs, initial_state=decoder_states_inputs)\n",
        "decoder_states = [state_h, state_c]\n",
        "decoder_outputs = decoder_dense(decoder_outputs)\n",
        "decoder_model = Model(\n",
        "    [decoder_inputs] + decoder_states_inputs,\n",
        "    [decoder_outputs] + decoder_states)"
      ],
      "execution_count": 21,
      "outputs": []
    },
    {
      "cell_type": "code",
      "metadata": {
        "id": "Mx4Q4WCxsiz0"
      },
      "source": [
        "reverse_input_char_index = dict((i, char) for char, i in input_token_index.items())\n",
        "reverse_target_char_index = dict((i, char) for char, i in target_token_index.items())"
      ],
      "execution_count": 26,
      "outputs": []
    },
    {
      "cell_type": "code",
      "metadata": {
        "id": "DGgJTkYG75sl"
      },
      "source": [
        "def decode_sequence(input_seq):\n",
        "    # Encode the input as state vectors.\n",
        "    states_value = encoder_model.predict(input_seq)\n",
        "\n",
        "    # Generate empty target sequence of length 1.\n",
        "    target_seq = np.zeros((1, 1, num_decoder_tokens))\n",
        "    # Populate the first character of target sequence with the start character.\n",
        "    target_seq[0, 0, target_token_index['\\t']] = 1.\n",
        "\n",
        "    # Sampling loop for a batch of sequences\n",
        "    # (to simplify, here we assume a batch of size 1).\n",
        "    stop_condition = False\n",
        "    decoded_sentence = ''\n",
        "    while not stop_condition:\n",
        "        output_tokens, h, c = decoder_model.predict(\n",
        "            [target_seq] + states_value)\n",
        "\n",
        "        # Sample a token\n",
        "        sampled_token_index = np.argmax(output_tokens[0, -1, :])\n",
        "        sampled_char = reverse_target_char_index[sampled_token_index]\n",
        "        decoded_sentence += sampled_char\n",
        "\n",
        "        # Exit condition: either hit max length\n",
        "        # or find stop character.\n",
        "        if (sampled_char == '\\n' or\n",
        "           len(decoded_sentence) > max_decoder_seq_length):\n",
        "            stop_condition = True\n",
        "\n",
        "        # Update the target sequence (of length 1).\n",
        "        target_seq = np.zeros((1, 1, num_decoder_tokens))\n",
        "        target_seq[0, 0, sampled_token_index] = 1.\n",
        "\n",
        "        # Update states\n",
        "        states_value = [h, c]\n",
        "\n",
        "    return decoded_sentence"
      ],
      "execution_count": 27,
      "outputs": []
    },
    {
      "cell_type": "code",
      "metadata": {
        "colab": {
          "base_uri": "https://localhost:8080/"
        },
        "id": "a8jsCR7p75vW",
        "outputId": "6398a884-a115-42ae-fa5a-99c8dcc34826"
      },
      "source": [
        "for seq_index in range(10):\n",
        "\n",
        "    input_seq = encoder_input_data[seq_index: seq_index + 1]\n",
        "    #print(input_seq)\n",
        "    decoded_sentence = decode_sequence(input_seq)\n",
        "    print('-')\n",
        "    print('Input sentence:', input_texts[seq_index])\n",
        "    print('Decoded sentence:', decoded_sentence)\n",
        "\n",
        "\n"
      ],
      "execution_count": 38,
      "outputs": [
        {
          "output_type": "stream",
          "text": [
            "[[[0. 0. 0. ... 0. 0. 0.]\n",
            "  [0. 0. 0. ... 0. 0. 0.]\n",
            "  [0. 0. 0. ... 0. 0. 0.]\n",
            "  ...\n",
            "  [1. 0. 0. ... 0. 0. 0.]\n",
            "  [1. 0. 0. ... 0. 0. 0.]\n",
            "  [1. 0. 0. ... 0. 0. 0.]]]\n",
            "-\n",
            "Input sentence: Go.\n",
            "Decoded sentence: Bouge !\n",
            "\n",
            "[[[0. 0. 0. ... 0. 0. 0.]\n",
            "  [0. 0. 0. ... 0. 0. 0.]\n",
            "  [0. 0. 0. ... 0. 0. 0.]\n",
            "  ...\n",
            "  [1. 0. 0. ... 0. 0. 0.]\n",
            "  [1. 0. 0. ... 0. 0. 0.]\n",
            "  [1. 0. 0. ... 0. 0. 0.]]]\n",
            "-\n",
            "Input sentence: Go.\n",
            "Decoded sentence: Bouge !\n",
            "\n",
            "[[[0. 0. 0. ... 0. 0. 0.]\n",
            "  [0. 0. 0. ... 0. 0. 0.]\n",
            "  [0. 0. 0. ... 0. 0. 0.]\n",
            "  ...\n",
            "  [1. 0. 0. ... 0. 0. 0.]\n",
            "  [1. 0. 0. ... 0. 0. 0.]\n",
            "  [1. 0. 0. ... 0. 0. 0.]]]\n",
            "-\n",
            "Input sentence: Go.\n",
            "Decoded sentence: Bouge !\n",
            "\n",
            "[[[0. 0. 0. ... 0. 0. 0.]\n",
            "  [0. 0. 0. ... 0. 0. 0.]\n",
            "  [0. 0. 0. ... 0. 0. 0.]\n",
            "  ...\n",
            "  [1. 0. 0. ... 0. 0. 0.]\n",
            "  [1. 0. 0. ... 0. 0. 0.]\n",
            "  [1. 0. 0. ... 0. 0. 0.]]]\n",
            "-\n",
            "Input sentence: Hi.\n",
            "Decoded sentence: Salut !\n",
            "\n",
            "[[[0. 0. 0. ... 0. 0. 0.]\n",
            "  [0. 0. 0. ... 0. 0. 0.]\n",
            "  [0. 0. 0. ... 0. 0. 0.]\n",
            "  ...\n",
            "  [1. 0. 0. ... 0. 0. 0.]\n",
            "  [1. 0. 0. ... 0. 0. 0.]\n",
            "  [1. 0. 0. ... 0. 0. 0.]]]\n",
            "-\n",
            "Input sentence: Hi.\n",
            "Decoded sentence: Salut !\n",
            "\n",
            "[[[0. 0. 0. ... 0. 0. 0.]\n",
            "  [0. 0. 0. ... 0. 0. 0.]\n",
            "  [0. 0. 0. ... 0. 0. 0.]\n",
            "  ...\n",
            "  [1. 0. 0. ... 0. 0. 0.]\n",
            "  [1. 0. 0. ... 0. 0. 0.]\n",
            "  [1. 0. 0. ... 0. 0. 0.]]]\n",
            "-\n",
            "Input sentence: Run!\n",
            "Decoded sentence: Filez !\n",
            "\n",
            "[[[0. 0. 0. ... 0. 0. 0.]\n",
            "  [0. 0. 0. ... 0. 0. 0.]\n",
            "  [0. 0. 0. ... 0. 0. 0.]\n",
            "  ...\n",
            "  [1. 0. 0. ... 0. 0. 0.]\n",
            "  [1. 0. 0. ... 0. 0. 0.]\n",
            "  [1. 0. 0. ... 0. 0. 0.]]]\n",
            "-\n",
            "Input sentence: Run!\n",
            "Decoded sentence: Filez !\n",
            "\n",
            "[[[0. 0. 0. ... 0. 0. 0.]\n",
            "  [0. 0. 0. ... 0. 0. 0.]\n",
            "  [0. 0. 0. ... 0. 0. 0.]\n",
            "  ...\n",
            "  [1. 0. 0. ... 0. 0. 0.]\n",
            "  [1. 0. 0. ... 0. 0. 0.]\n",
            "  [1. 0. 0. ... 0. 0. 0.]]]\n",
            "-\n",
            "Input sentence: Run!\n",
            "Decoded sentence: Filez !\n",
            "\n",
            "[[[0. 0. 0. ... 0. 0. 0.]\n",
            "  [0. 0. 0. ... 0. 0. 0.]\n",
            "  [0. 0. 0. ... 0. 0. 0.]\n",
            "  ...\n",
            "  [1. 0. 0. ... 0. 0. 0.]\n",
            "  [1. 0. 0. ... 0. 0. 0.]\n",
            "  [1. 0. 0. ... 0. 0. 0.]]]\n",
            "-\n",
            "Input sentence: Run!\n",
            "Decoded sentence: Filez !\n",
            "\n",
            "[[[0. 0. 0. ... 0. 0. 0.]\n",
            "  [0. 0. 0. ... 0. 0. 0.]\n",
            "  [0. 0. 0. ... 0. 0. 0.]\n",
            "  ...\n",
            "  [1. 0. 0. ... 0. 0. 0.]\n",
            "  [1. 0. 0. ... 0. 0. 0.]\n",
            "  [1. 0. 0. ... 0. 0. 0.]]]\n",
            "-\n",
            "Input sentence: Run!\n",
            "Decoded sentence: Filez !\n",
            "\n"
          ],
          "name": "stdout"
        }
      ]
    },
    {
      "cell_type": "code",
      "metadata": {
        "id": "egwEEicE75y6"
      },
      "source": [
        "a=np.zeros((1, 1, num_decoder_tokens))"
      ],
      "execution_count": 29,
      "outputs": []
    },
    {
      "cell_type": "code",
      "metadata": {
        "colab": {
          "base_uri": "https://localhost:8080/"
        },
        "id": "7ZxDR_tS7515",
        "outputId": "fd8e7a23-15ba-4aeb-82cd-27f8f6fc98ed"
      },
      "source": [
        "a"
      ],
      "execution_count": 30,
      "outputs": [
        {
          "output_type": "execute_result",
          "data": {
            "text/plain": [
              "array([[[0., 0., 0., 0., 0., 0., 0., 0., 0., 0., 0., 0., 0., 0., 0., 0.,\n",
              "         0., 0., 0., 0., 0., 0., 0., 0., 0., 0., 0., 0., 0., 0., 0., 0.,\n",
              "         0., 0., 0., 0., 0., 0., 0., 0., 0., 0., 0., 0., 0., 0., 0., 0.,\n",
              "         0., 0., 0., 0., 0., 0., 0., 0., 0., 0., 0., 0., 0., 0., 0., 0.,\n",
              "         0., 0., 0., 0., 0., 0., 0., 0., 0., 0., 0., 0., 0., 0., 0., 0.,\n",
              "         0., 0., 0., 0., 0., 0., 0., 0., 0., 0., 0., 0.]]])"
            ]
          },
          "metadata": {
            "tags": []
          },
          "execution_count": 30
        }
      ]
    },
    {
      "cell_type": "code",
      "metadata": {
        "id": "tLy7sTbfs3D-"
      },
      "source": [
        "#reverse_input_char_index\n",
        "target_seq = np.zeros((1, 1, num_decoder_tokens))\n",
        "target_seq[0, 0, target_token_index['\\t']]=1"
      ],
      "execution_count": 40,
      "outputs": []
    },
    {
      "cell_type": "code",
      "metadata": {
        "colab": {
          "base_uri": "https://localhost:8080/"
        },
        "id": "2baaqERGtxY_",
        "outputId": "c504e505-6746-4ee5-ec18-dd94c143ab22"
      },
      "source": [
        "encoder_input_data[0]"
      ],
      "execution_count": 37,
      "outputs": [
        {
          "output_type": "execute_result",
          "data": {
            "text/plain": [
              "array([[0., 0., 0., ..., 0., 0., 0.],\n",
              "       [0., 0., 0., ..., 0., 0., 0.],\n",
              "       [0., 0., 0., ..., 0., 0., 0.],\n",
              "       ...,\n",
              "       [1., 0., 0., ..., 0., 0., 0.],\n",
              "       [1., 0., 0., ..., 0., 0., 0.],\n",
              "       [1., 0., 0., ..., 0., 0., 0.]], dtype=float32)"
            ]
          },
          "metadata": {
            "tags": []
          },
          "execution_count": 37
        }
      ]
    },
    {
      "cell_type": "code",
      "metadata": {
        "id": "4psADltjtxbe"
      },
      "source": [
        "seq_index=0\n",
        "input_seq = encoder_input_data[seq_index: seq_index + 1]"
      ],
      "execution_count": 41,
      "outputs": []
    },
    {
      "cell_type": "code",
      "metadata": {
        "id": "BNxdeFQlw-O_"
      },
      "source": [
        "states_value = encoder_model.predict(input_seq)"
      ],
      "execution_count": 46,
      "outputs": []
    },
    {
      "cell_type": "code",
      "metadata": {
        "id": "f3itkBXstxge"
      },
      "source": [
        " output_tokens, h, c = decoder_model.predict(\n",
        "            [target_seq] + states_value)"
      ],
      "execution_count": 47,
      "outputs": []
    },
    {
      "cell_type": "code",
      "metadata": {
        "colab": {
          "base_uri": "https://localhost:8080/"
        },
        "id": "xh8pKty8xQMq",
        "outputId": "e9b3701d-6ba0-44f0-c366-4bb291f20239"
      },
      "source": [
        "output_tokens"
      ],
      "execution_count": 48,
      "outputs": [
        {
          "output_type": "execute_result",
          "data": {
            "text/plain": [
              "array([[[3.65059591e-08, 9.05757418e-07, 2.87442708e-05, 4.49204678e-03,\n",
              "         2.37309106e-09, 5.66014478e-07, 4.81329789e-06, 8.78851409e-08,\n",
              "         1.85662099e-08, 5.34818264e-06, 5.26552103e-05, 9.64018400e-05,\n",
              "         5.85604596e-07, 7.43770784e-07, 7.98754698e-08, 2.14724150e-08,\n",
              "         7.29134229e-08, 1.05579304e-07, 2.94562142e-07, 4.43440172e-07,\n",
              "         1.20263794e-05, 4.41969931e-02, 3.82300407e-01, 1.63324680e-02,\n",
              "         6.36676252e-02, 4.80065246e-05, 1.25233945e-03, 1.06873158e-05,\n",
              "         3.58719626e-05, 1.07947346e-02, 1.53266089e-02, 5.75962638e-08,\n",
              "         2.82803420e-02, 1.17147222e-01, 1.26049446e-03, 2.07663011e-02,\n",
              "         9.27939359e-03, 9.22097126e-04, 1.99514721e-03, 2.28504203e-02,\n",
              "         7.00703869e-03, 1.20679233e-05, 1.59989566e-01, 4.77190006e-05,\n",
              "         1.64859404e-03, 1.20376811e-07, 1.63205659e-05, 2.98490922e-04,\n",
              "         1.09393443e-06, 2.63800939e-05, 2.36047617e-05, 1.01321871e-06,\n",
              "         2.33003192e-07, 4.91944593e-06, 1.58715136e-06, 1.32138623e-04,\n",
              "         1.18559265e-05, 5.38597487e-05, 1.07995118e-04, 2.63806214e-07,\n",
              "         5.95150277e-06, 3.23677144e-04, 1.06324005e-05, 5.67135089e-07,\n",
              "         4.61783429e-07, 1.77101138e-05, 4.67792516e-09, 7.29493831e-06,\n",
              "         1.29970338e-03, 2.97912350e-03, 1.18611637e-03, 1.76588273e-07,\n",
              "         2.62639929e-07, 6.63906187e-02, 1.54510625e-02, 2.02324259e-06,\n",
              "         2.34124254e-05, 7.49890634e-04, 1.35675291e-04, 6.17665006e-04,\n",
              "         4.91215833e-05, 1.26925306e-05, 6.96951076e-07, 2.03890031e-05,\n",
              "         4.15226875e-09, 4.31691151e-05, 1.66798557e-08, 4.02791957e-05,\n",
              "         4.84285522e-07, 3.52727038e-05, 4.15424388e-08, 4.77415815e-05]]],\n",
              "      dtype=float32)"
            ]
          },
          "metadata": {
            "tags": []
          },
          "execution_count": 48
        }
      ]
    },
    {
      "cell_type": "code",
      "metadata": {
        "colab": {
          "base_uri": "https://localhost:8080/"
        },
        "id": "gI0gyqnpxf_R",
        "outputId": "4246b7d3-5aa8-4897-ee65-243e71b48aac"
      },
      "source": [
        "output_tokens[0, -1, :]"
      ],
      "execution_count": 49,
      "outputs": [
        {
          "output_type": "execute_result",
          "data": {
            "text/plain": [
              "array([3.65059591e-08, 9.05757418e-07, 2.87442708e-05, 4.49204678e-03,\n",
              "       2.37309106e-09, 5.66014478e-07, 4.81329789e-06, 8.78851409e-08,\n",
              "       1.85662099e-08, 5.34818264e-06, 5.26552103e-05, 9.64018400e-05,\n",
              "       5.85604596e-07, 7.43770784e-07, 7.98754698e-08, 2.14724150e-08,\n",
              "       7.29134229e-08, 1.05579304e-07, 2.94562142e-07, 4.43440172e-07,\n",
              "       1.20263794e-05, 4.41969931e-02, 3.82300407e-01, 1.63324680e-02,\n",
              "       6.36676252e-02, 4.80065246e-05, 1.25233945e-03, 1.06873158e-05,\n",
              "       3.58719626e-05, 1.07947346e-02, 1.53266089e-02, 5.75962638e-08,\n",
              "       2.82803420e-02, 1.17147222e-01, 1.26049446e-03, 2.07663011e-02,\n",
              "       9.27939359e-03, 9.22097126e-04, 1.99514721e-03, 2.28504203e-02,\n",
              "       7.00703869e-03, 1.20679233e-05, 1.59989566e-01, 4.77190006e-05,\n",
              "       1.64859404e-03, 1.20376811e-07, 1.63205659e-05, 2.98490922e-04,\n",
              "       1.09393443e-06, 2.63800939e-05, 2.36047617e-05, 1.01321871e-06,\n",
              "       2.33003192e-07, 4.91944593e-06, 1.58715136e-06, 1.32138623e-04,\n",
              "       1.18559265e-05, 5.38597487e-05, 1.07995118e-04, 2.63806214e-07,\n",
              "       5.95150277e-06, 3.23677144e-04, 1.06324005e-05, 5.67135089e-07,\n",
              "       4.61783429e-07, 1.77101138e-05, 4.67792516e-09, 7.29493831e-06,\n",
              "       1.29970338e-03, 2.97912350e-03, 1.18611637e-03, 1.76588273e-07,\n",
              "       2.62639929e-07, 6.63906187e-02, 1.54510625e-02, 2.02324259e-06,\n",
              "       2.34124254e-05, 7.49890634e-04, 1.35675291e-04, 6.17665006e-04,\n",
              "       4.91215833e-05, 1.26925306e-05, 6.96951076e-07, 2.03890031e-05,\n",
              "       4.15226875e-09, 4.31691151e-05, 1.66798557e-08, 4.02791957e-05,\n",
              "       4.84285522e-07, 3.52727038e-05, 4.15424388e-08, 4.77415815e-05],\n",
              "      dtype=float32)"
            ]
          },
          "metadata": {
            "tags": []
          },
          "execution_count": 49
        }
      ]
    }
  ]
}